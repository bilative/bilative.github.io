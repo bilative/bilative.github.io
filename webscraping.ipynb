{
 "cells": [
  {
   "cell_type": "code",
   "execution_count": null,
   "metadata": {},
   "outputs": [],
   "source": [
    "\n",
    "https://beautiful-soup-4.readthedocs.io/en/latest/"
   ]
  },
  {
   "cell_type": "code",
   "execution_count": 3,
   "metadata": {},
   "outputs": [],
   "source": [
    "import requests\n",
    "from bs4 import BeautifulSoup\n",
    "\n",
    "def get_soup(TARGET_URL):\n",
    "    page = requests.get(TARGET_URL)\n",
    "    soup = BeautifulSoup(page.text, 'html.parser')\n",
    "    return soup\n",
    "\n",
    "URL = 'https://bilative.github.io/sisterslab/web_scraping'\n",
    "\n",
    "soup = get_soup(URL)"
   ]
  },
  {
   "cell_type": "code",
   "execution_count": 27,
   "metadata": {},
   "outputs": [
    {
     "name": "stdout",
     "output_type": "stream",
     "text": [
      " Ask (Elif Safak) \n",
      " Icimizdeki Seytan (S. Ali) \n",
      " Stratejik Ikna (Jay Heinrichs) \n",
      " Zaman Yolculugu (James Gleick) \n",
      " (Dune) Rahibeler Meclisi (Frank Herbert) \n"
     ]
    }
   ],
   "source": [
    "for icerik in soup.find_all(\"td\", attrs={'class':'col9'}):\n",
    "    print(icerik.text)\n",
    "\n",
    "for icerik in soup.find_all(\"tr\", attrs={'class':'I-satiri'}):\n",
    "    print(icerik.text)"
   ]
  },
  {
   "cell_type": "code",
   "execution_count": 4,
   "metadata": {},
   "outputs": [
    {
     "name": "stdout",
     "output_type": "stream",
     "text": [
      "https://bilative.github.io/\n",
      "\n",
      "Bilal Latif Ozdemir\n",
      "\n",
      "\n",
      "https://bilative.github.io/#about\n",
      "About\n",
      "https://bilative.github.io/#projects\n",
      "Projects\n",
      "https://bilative.github.io/#experience\n",
      "Experience\n",
      "https://bilative.github.io/#education\n",
      "Education\n",
      "https://bilative.github.io/#skills\n",
      "Skills\n",
      "https://bilative.github.io/#interests\n",
      "Interests\n",
      "https://bilative.github.io/#awards\n",
      "Certifications\n",
      "https://sisterslab.co/\n",
      "Web Site\n",
      "https://www.instagram.com/sisterslabb/\n",
      "Instagram\n",
      "https://twitter.com/SistersLab\n",
      "Twitter\n",
      "https://www.youtube.com/channel/UCDLlvoriOfvbfUL3P1SyGkg\n",
      "Youtube\n",
      "https://bilative.github.io/sisterslab/urun_sayfasi\n",
      "\n",
      "\n",
      "\n",
      "https://bilative.github.io/sisterslab/urun_sayfasi\n",
      "\n",
      "                                                            Buca Domates\n",
      "https://bilative.github.io/sisterslab/bilal_manavcilik\n",
      "\n",
      "                                                                Bilal Manavcilik\n",
      "https://bilative.github.io/sisterslab/urun_sayfasi\n",
      "\n",
      "\n",
      "\n",
      "https://bilative.github.io/sisterslab/urun_sayfasi\n",
      "\n",
      "                                                            Tekeli Karpuzu\n",
      "https://bilative.github.io/sisterslab/bilal_manavcilik\n",
      "\n",
      "                                                                Bilal Manavcilik\n",
      "https://bilative.github.io/sisterslab/urun_sayfasi\n",
      "\n",
      "\n",
      "\n",
      "https://bilative.github.io/sisterslab/urun_sayfasi\n",
      "\n",
      "                                                            Odemis Kirazi\n",
      "https://bilative.github.io/sisterslab/bilal_manavcilik\n",
      "\n",
      "                                                                Bilal Manavcilik\n",
      "https://bilative.github.io/sisterslab/urun_sayfasi\n",
      "\n",
      "\n",
      "\n",
      "https://bilative.github.io/sisterslab/urun_sayfasi\n",
      "\n",
      "                                                            Gumuldur Mandalinasi\n",
      "https://bilative.github.io/bilal_manavcilik\n",
      "\n",
      "                                                                Bilal Manavcilik\n"
     ]
    }
   ],
   "source": [
    "for i in soup.find_all('a'):\n",
    "    print(i['href'])\n",
    "    print(i.text)"
   ]
  },
  {
   "cell_type": "code",
   "execution_count": 14,
   "metadata": {},
   "outputs": [
    {
     "name": "stdout",
     "output_type": "stream",
     "text": [
      "<td class=\"col1\"> A </td>\n",
      "<td class=\"col2\"> Ali </td>\n",
      "<td class=\"col3\"> Aydin </td>\n",
      "<td class=\"col4\"> Ari </td>\n",
      "<td class=\"col5\"> Asma </td>\n",
      "<td class=\"col6\"> Araba </td>\n",
      "<td class=\"col7\"> Arnavutluk </td>\n",
      "<td class=\"col8\"> Aya Shalkar </td>\n",
      "<td class=\"col9\"> Ask (Elif Safak) </td>\n",
      "<td class=\"col10\">100 </td>\n",
      "<td class=\"col1\"> İ </td>\n",
      "<td class=\"col2\"> Inci </td>\n",
      "<td class=\"col3\"> Izmir </td>\n",
      "<td class=\"col4\"> Inek </td>\n",
      "<td class=\"col5\"> Incir </td>\n",
      "<td class=\"col6\"> igne </td>\n",
      "<td class=\"col7\"> Izlanda </td>\n",
      "<td class=\"col8\"> Inna </td>\n",
      "<td class=\"col9\"> Icimizdeki Seytan (S. Ali) </td>\n",
      "<td class=\"col10\">90 </td>\n",
      "<td class=\"col1\"> S </td>\n",
      "<td class=\"col2\"> Sena </td>\n",
      "<td class=\"col3\"> Sevilla </td>\n",
      "<td class=\"col4\"> SIPA </td>\n",
      "<td class=\"col5\"> Sumbul </td>\n",
      "<td class=\"col6\"> Surahi </td>\n",
      "<td class=\"col7\"> Singapur </td>\n",
      "<td class=\"col8\"> Stephen King </td>\n",
      "<td class=\"col9\"> Stratejik Ikna (Jay Heinrichs) </td>\n",
      "<td class=\"col10\">85 </td>\n"
     ]
    }
   ],
   "source": [
    "for i in soup.find_all('td'):\n",
    "    print(i)"
   ]
  },
  {
   "cell_type": "code",
   "execution_count": 5,
   "metadata": {},
   "outputs": [
    {
     "name": "stdout",
     "output_type": "stream",
     "text": [
      "<td class=\"col1\"> A </td>\n",
      "<td class=\"col1\"> İ </td>\n",
      "<td class=\"col1\"> S </td>\n",
      "<td class=\"col1\"> Z </td>\n",
      "<td class=\"col1\"> R </td>\n"
     ]
    }
   ],
   "source": [
    "for i in soup.find_all('td', attrs={\"class\":\"col1\"}):\n",
    "    print(i)"
   ]
  },
  {
   "cell_type": "code",
   "execution_count": 6,
   "metadata": {},
   "outputs": [
    {
     "data": {
      "text/plain": [
       "'weeklyme'"
      ]
     },
     "execution_count": 6,
     "metadata": {},
     "output_type": "execute_result"
    }
   ],
   "source": [
    "soup.title.text"
   ]
  },
  {
   "cell_type": "code",
   "execution_count": 7,
   "metadata": {},
   "outputs": [
    {
     "name": "stdout",
     "output_type": "stream",
     "text": [
      "weeklyme\n"
     ]
    }
   ],
   "source": [
    "for i in soup.find('title'):\n",
    "    print(i)"
   ]
  },
  {
   "cell_type": "code",
   "execution_count": 26,
   "metadata": {},
   "outputs": [
    {
     "data": {
      "text/plain": [
       "<a class=\"navbar-brand js-scroll-trigger\" href=\"https://bilative.github.io/\">\n",
       "<span class=\"d-block d-lg-none\">Bilal Latif Ozdemir</span>\n",
       "<span class=\"d-none d-lg-block\"><img alt=\"...\" class=\"img-fluid img-profile rounded-circle mx-auto mb-2\" src=\"assets/img/me_linkedin.jpg\"/></span>\n",
       "</a>"
      ]
     },
     "execution_count": 26,
     "metadata": {},
     "output_type": "execute_result"
    }
   ],
   "source": [
    "soup.a"
   ]
  },
  {
   "cell_type": "code",
   "execution_count": 29,
   "metadata": {},
   "outputs": [
    {
     "name": "stdout",
     "output_type": "stream",
     "text": [
      "\n",
      "\n",
      "<span class=\"d-block d-lg-none\">Bilal Latif Ozdemir</span>\n",
      "\n",
      "\n",
      "<span class=\"d-none d-lg-block\"><img alt=\"...\" class=\"img-fluid img-profile rounded-circle mx-auto mb-2\" src=\"assets/img/me_linkedin.jpg\"/></span>\n",
      "\n",
      "\n"
     ]
    }
   ],
   "source": [
    "for i in soup.find('a'):\n",
    "    print(i)"
   ]
  },
  {
   "cell_type": "code",
   "execution_count": 15,
   "metadata": {},
   "outputs": [
    {
     "name": "stdout",
     "output_type": "stream",
     "text": [
      "<li>1. Site: <a class=\"sisterslab-websites\" href=\"https://sisterslab.co/\">Web Site</a></li>\n",
      "<li>2. Site: <a class=\"sisterslab-websites\" href=\"https://www.instagram.com/sisterslabb/\">Instagram</a></li>\n",
      "<li>3. Site: <a class=\"sisterslab-websites\" href=\"https://twitter.com/SistersLab\">Twitter</a>\n",
      "</li>\n",
      "<li>4. Site: <a class=\"sisterslab-websites\" href=\"https://www.youtube.com/channel/UCDLlvoriOfvbfUL3P1SyGkg\">Youtube</a></li>\n"
     ]
    }
   ],
   "source": [
    "soup_url = soup.find(attrs={'url-senaryosu'})\n",
    "for i in soup_url.find_all('li'):\n",
    "    print(i)"
   ]
  },
  {
   "cell_type": "code",
   "execution_count": 20,
   "metadata": {},
   "outputs": [
    {
     "name": "stdout",
     "output_type": "stream",
     "text": [
      "\n",
      "                                                                    2,50 TL\n",
      "                                                                \n",
      "\n",
      "                                                                    6,50 TL\n",
      "                                                                \n",
      "\n",
      "                                                                    10,50 TL\n",
      "                                                                \n",
      "\n",
      "                                                                    4,50 TL\n",
      "                                                                \n"
     ]
    }
   ],
   "source": [
    "#soup_url = soup.find(attrs={'url-senaryosu'})\n",
    "for i in soup.find_all(attrs={\"class\":'urun-fiyat'}):\n",
    "    print(i.text)"
   ]
  },
  {
   "cell_type": "code",
   "execution_count": 34,
   "metadata": {},
   "outputs": [
    {
     "ename": "SyntaxError",
     "evalue": "invalid syntax (<ipython-input-34-64ceb9d1cd5e>, line 3)",
     "output_type": "error",
     "traceback": [
      "\u001b[1;36m  File \u001b[1;32m\"<ipython-input-34-64ceb9d1cd5e>\"\u001b[1;36m, line \u001b[1;32m3\u001b[0m\n\u001b[1;33m    print(i.string.)\u001b[0m\n\u001b[1;37m                   ^\u001b[0m\n\u001b[1;31mSyntaxError\u001b[0m\u001b[1;31m:\u001b[0m invalid syntax\n"
     ]
    }
   ],
   "source": [
    "#soup_url = soup.find(attrs={'url-senaryosu'})\n",
    "for i in soup.find_all(attrs={\"class\":'urun-satici'}):\n",
    "    print(i)"
   ]
  },
  {
   "cell_type": "code",
   "execution_count": null,
   "metadata": {},
   "outputs": [],
   "source": []
  }
 ],
 "metadata": {
  "interpreter": {
   "hash": "4800c9a39adaa0c8765317c41af873c7b6ed4d2670d38dacbf28f56f976237f1"
  },
  "kernelspec": {
   "display_name": "Python 3.7.8 64-bit",
   "name": "python3"
  },
  "language_info": {
   "codemirror_mode": {
    "name": "ipython",
    "version": 3
   },
   "file_extension": ".py",
   "mimetype": "text/x-python",
   "name": "python",
   "nbconvert_exporter": "python",
   "pygments_lexer": "ipython3",
   "version": "3.7.8"
  },
  "orig_nbformat": 4
 },
 "nbformat": 4,
 "nbformat_minor": 2
}
