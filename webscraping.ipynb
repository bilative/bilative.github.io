{
 "cells": [
  {
   "cell_type": "code",
   "execution_count": null,
   "metadata": {},
   "outputs": [],
   "source": [
    "\n",
    "https://beautiful-soup-4.readthedocs.io/en/latest/"
   ]
  },
  {
   "cell_type": "code",
   "execution_count": 1,
   "metadata": {},
   "outputs": [],
   "source": [
    "import requests\n",
    "from bs4 import BeautifulSoup\n",
    "import re\n",
    "import time\n",
    "import pandas as pd\n",
    "import numpy as np\n",
    "\n",
    "\n",
    "\n",
    "def get_soup(BASE_PATH):\n",
    "    page = requests.get(BASE_PATH)\n",
    "    soup = BeautifulSoup(page.text, 'html.parser')\n",
    "    return soup"
   ]
  },
  {
   "cell_type": "code",
   "execution_count": 2,
   "metadata": {},
   "outputs": [],
   "source": [
    "URL = 'https://bilative.github.io/web_scraping'\n",
    "\n",
    "soup = get_soup(URL)"
   ]
  },
  {
   "cell_type": "code",
   "execution_count": 7,
   "metadata": {},
   "outputs": [
    {
     "data": {
      "text/plain": [
       "bs4.BeautifulSoup"
      ]
     },
     "execution_count": 7,
     "metadata": {},
     "output_type": "execute_result"
    }
   ],
   "source": [
    "type(soup)"
   ]
  },
  {
   "cell_type": "code",
   "execution_count": 13,
   "metadata": {},
   "outputs": [
    {
     "name": "stdout",
     "output_type": "stream",
     "text": [
      "https://bilative.github.io/\n",
      "\n",
      "Bilal Latif Ozdemir\n",
      "\n",
      "\n",
      "https://bilative.github.io/#about\n",
      "About\n",
      "https://bilative.github.io/#projects\n",
      "Projects\n",
      "https://bilative.github.io/#experience\n",
      "Experience\n",
      "https://bilative.github.io/#education\n",
      "Education\n",
      "https://bilative.github.io/#skills\n",
      "Skills\n",
      "https://bilative.github.io/#interests\n",
      "Interests\n",
      "https://bilative.github.io/#awards\n",
      "Certifications\n"
     ]
    }
   ],
   "source": [
    "for i in soup.find_all('a'):\n",
    "    print(i['href'])\n",
    "    print(i.text)"
   ]
  },
  {
   "cell_type": "code",
   "execution_count": 14,
   "metadata": {},
   "outputs": [
    {
     "name": "stdout",
     "output_type": "stream",
     "text": [
      "<td class=\"col1\"> A </td>\n",
      "<td class=\"col2\"> Ali </td>\n",
      "<td class=\"col3\"> Aydin </td>\n",
      "<td class=\"col4\"> Ari </td>\n",
      "<td class=\"col5\"> Asma </td>\n",
      "<td class=\"col6\"> Araba </td>\n",
      "<td class=\"col7\"> Arnavutluk </td>\n",
      "<td class=\"col8\"> Aya Shalkar </td>\n",
      "<td class=\"col9\"> Ask (Elif Safak) </td>\n",
      "<td class=\"col10\">100 </td>\n",
      "<td class=\"col1\"> İ </td>\n",
      "<td class=\"col2\"> Inci </td>\n",
      "<td class=\"col3\"> Izmir </td>\n",
      "<td class=\"col4\"> Inek </td>\n",
      "<td class=\"col5\"> Incir </td>\n",
      "<td class=\"col6\"> igne </td>\n",
      "<td class=\"col7\"> Izlanda </td>\n",
      "<td class=\"col8\"> Inna </td>\n",
      "<td class=\"col9\"> Icimizdeki Seytan (S. Ali) </td>\n",
      "<td class=\"col10\">90 </td>\n",
      "<td class=\"col1\"> S </td>\n",
      "<td class=\"col2\"> Sena </td>\n",
      "<td class=\"col3\"> Sevilla </td>\n",
      "<td class=\"col4\"> SIPA </td>\n",
      "<td class=\"col5\"> Sumbul </td>\n",
      "<td class=\"col6\"> Surahi </td>\n",
      "<td class=\"col7\"> Singapur </td>\n",
      "<td class=\"col8\"> Stephen King </td>\n",
      "<td class=\"col9\"> Stratejik Ikna (Jay Heinrichs) </td>\n",
      "<td class=\"col10\">85 </td>\n"
     ]
    }
   ],
   "source": [
    "for i in soup.find_all('td'):\n",
    "    print(i)"
   ]
  },
  {
   "cell_type": "code",
   "execution_count": 15,
   "metadata": {},
   "outputs": [
    {
     "name": "stdout",
     "output_type": "stream",
     "text": [
      "<td class=\"col1\"> A </td>\n",
      "<td class=\"col1\"> İ </td>\n",
      "<td class=\"col1\"> S </td>\n"
     ]
    }
   ],
   "source": [
    "for i in soup.find_all('td', attrs={\"class\":\"col1\"}):\n",
    "    print(i)"
   ]
  },
  {
   "cell_type": "code",
   "execution_count": 23,
   "metadata": {},
   "outputs": [
    {
     "data": {
      "text/plain": [
       "'x-days-of-code'"
      ]
     },
     "execution_count": 23,
     "metadata": {},
     "output_type": "execute_result"
    }
   ],
   "source": [
    "soup.title.text"
   ]
  },
  {
   "cell_type": "code",
   "execution_count": 25,
   "metadata": {},
   "outputs": [
    {
     "name": "stdout",
     "output_type": "stream",
     "text": [
      "x-days-of-code\n"
     ]
    }
   ],
   "source": [
    "for i in soup.find('title'):\n",
    "    print(i)"
   ]
  },
  {
   "cell_type": "code",
   "execution_count": 26,
   "metadata": {},
   "outputs": [
    {
     "data": {
      "text/plain": [
       "<a class=\"navbar-brand js-scroll-trigger\" href=\"https://bilative.github.io/\">\n",
       "<span class=\"d-block d-lg-none\">Bilal Latif Ozdemir</span>\n",
       "<span class=\"d-none d-lg-block\"><img alt=\"...\" class=\"img-fluid img-profile rounded-circle mx-auto mb-2\" src=\"assets/img/me_linkedin.jpg\"/></span>\n",
       "</a>"
      ]
     },
     "execution_count": 26,
     "metadata": {},
     "output_type": "execute_result"
    }
   ],
   "source": [
    "soup.a"
   ]
  },
  {
   "cell_type": "code",
   "execution_count": 29,
   "metadata": {},
   "outputs": [
    {
     "name": "stdout",
     "output_type": "stream",
     "text": [
      "\n",
      "\n",
      "<span class=\"d-block d-lg-none\">Bilal Latif Ozdemir</span>\n",
      "\n",
      "\n",
      "<span class=\"d-none d-lg-block\"><img alt=\"...\" class=\"img-fluid img-profile rounded-circle mx-auto mb-2\" src=\"assets/img/me_linkedin.jpg\"/></span>\n",
      "\n",
      "\n"
     ]
    }
   ],
   "source": [
    "for i in soup.find('a'):\n",
    "    print(i)"
   ]
  },
  {
   "cell_type": "code",
   "execution_count": null,
   "metadata": {},
   "outputs": [],
   "source": []
  }
 ],
 "metadata": {
  "interpreter": {
   "hash": "4800c9a39adaa0c8765317c41af873c7b6ed4d2670d38dacbf28f56f976237f1"
  },
  "kernelspec": {
   "display_name": "Python 3.7.6 64-bit",
   "name": "python3"
  },
  "language_info": {
   "codemirror_mode": {
    "name": "ipython",
    "version": 3
   },
   "file_extension": ".py",
   "mimetype": "text/x-python",
   "name": "python",
   "nbconvert_exporter": "python",
   "pygments_lexer": "ipython3",
   "version": "3.7.6"
  },
  "orig_nbformat": 4
 },
 "nbformat": 4,
 "nbformat_minor": 2
}
