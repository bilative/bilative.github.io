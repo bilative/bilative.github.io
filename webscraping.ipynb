{
 "cells": [
  {
   "cell_type": "code",
   "execution_count": null,
   "source": [
    "\n",
    "https://beautiful-soup-4.readthedocs.io/en/latest/"
   ],
   "outputs": [],
   "metadata": {}
  },
  {
   "cell_type": "code",
   "execution_count": 1,
   "source": [
    "import requests\r\n",
    "from bs4 import BeautifulSoup\r\n",
    "import re\r\n",
    "import time\r\n",
    "import pandas as pd\r\n",
    "import numpy as np\r\n",
    "\r\n",
    "\r\n",
    "\r\n",
    "def get_soup(BASE_PATH):\r\n",
    "    page = requests.get(BASE_PATH)\r\n",
    "    soup = BeautifulSoup(page.text, 'html.parser')\r\n",
    "    return soup"
   ],
   "outputs": [],
   "metadata": {}
  },
  {
   "cell_type": "code",
   "execution_count": 2,
   "source": [
    "URL = 'https://bilative.github.io/sisterslab/web_scraping'\r\n",
    "\r\n",
    "soup = get_soup(URL)"
   ],
   "outputs": [],
   "metadata": {}
  },
  {
   "cell_type": "code",
   "execution_count": 3,
   "source": [
    "soup"
   ],
   "outputs": [
    {
     "output_type": "execute_result",
     "data": {
      "text/plain": [
       "<!DOCTYPE html>\n",
       "\n",
       "<html lang=\"en\">\n",
       "<head>\n",
       "<meta charset=\"utf-8\"/>\n",
       "<meta content=\"width=device-width, initial-scale=1, shrink-to-fit=no\" name=\"viewport\"/>\n",
       "<meta content=\"\" name=\"description\"/>\n",
       "<meta content=\"\" name=\"author\"/>\n",
       "<title>weeklyme</title>\n",
       "<link href=\"../assets/img/favicon.ico\" rel=\"icon\" type=\"image/x-icon\"/>\n",
       "<!-- Font Awesome icons (free version)-->\n",
       "<script crossorigin=\"anonymous\" src=\"https://use.fontawesome.com/releases/v5.15.3/js/all.js\"></script>\n",
       "<!-- Google fonts-->\n",
       "<link href=\"https://fonts.googleapis.com/css?family=Saira+Extra+Condensed:500,700\" rel=\"stylesheet\" type=\"text/css\"/>\n",
       "<link href=\"https://fonts.googleapis.com/css?family=Muli:400,400i,800,800i\" rel=\"stylesheet\" type=\"text/css\"/>\n",
       "<!-- Core theme CSS (includes Bootstrap)-->\n",
       "<link href=\"../css/styles.css\" rel=\"stylesheet\"/>\n",
       "</head>\n",
       "<body id=\"page-top\">\n",
       "<!-- Navigation-->\n",
       "<nav class=\"navbar navbar-expand-lg navbar-dark bg-primary fixed-top\" id=\"sideNav\">\n",
       "<a class=\"navbar-brand js-scroll-trigger\" href=\"https://bilative.github.io/\">\n",
       "<span class=\"d-block d-lg-none\">Bilal Latif Ozdemir</span>\n",
       "<span class=\"d-none d-lg-block\"><img alt=\"...\" class=\"img-fluid img-profile rounded-circle mx-auto mb-2\" src=\"../assets/img/me_linkedin.jpg\"/></span>\n",
       "</a>\n",
       "<button aria-controls=\"navbarResponsive\" aria-expanded=\"false\" aria-label=\"Toggle navigation\" class=\"navbar-toggler\" data-bs-target=\"#navbarResponsive\" data-bs-toggle=\"collapse\" type=\"button\"><span class=\"navbar-toggler-icon\"></span></button>\n",
       "<div class=\"collapse navbar-collapse\" id=\"navbarResponsive\">\n",
       "<ul class=\"navbar-nav\">\n",
       "<li class=\"nav-item\"><a class=\"nav-link js-scroll-trigger\" href=\"https://bilative.github.io/#about\">About</a></li>\n",
       "<li class=\"nav-item\"><a class=\"nav-link js-scroll-trigger\" href=\"https://bilative.github.io/#projects\">Projects</a></li>\n",
       "<li class=\"nav-item\"><a class=\"nav-link js-scroll-trigger\" href=\"https://bilative.github.io/#experience\">Experience</a></li>\n",
       "<li class=\"nav-item\"><a class=\"nav-link js-scroll-trigger\" href=\"https://bilative.github.io/#education\">Education</a></li>\n",
       "<li class=\"nav-item\"><a class=\"nav-link js-scroll-trigger\" href=\"https://bilative.github.io/#skills\">Skills</a></li>\n",
       "<li class=\"nav-item\"><a class=\"nav-link js-scroll-trigger\" href=\"https://bilative.github.io/#interests\">Interests</a></li>\n",
       "<li class=\"nav-item\"><a class=\"nav-link js-scroll-trigger\" href=\"https://bilative.github.io/#awards\">Certifications</a></li>\n",
       "</ul>\n",
       "</div>\n",
       "</nav>\n",
       "<!-- Page Content-->\n",
       "<!-- Skills-->\n",
       "<section class=\"resume-section\" id=\"skills\">\n",
       "<div class=\"resume-section-content\">\n",
       "<h2 align=\"center\" style=\"margin-right:100px\"> -- Web Scrapıng --</h2>\n",
       "<p>Bu sayfa <b>SistersLab</b> web scraping konusu blog yazı serisi icin hazırlanmıştır. </p>\n",
       "<hr/>\n",
       "<h3 align=\"center\" style=\"margin-right:100px\"> -- Part 1 - Tablodan okuma--\n",
       "<div class=\"tablo-senaryosu\">\n",
       "<table class=\"tablolar\" id=\"sislab-table\" style=\"width:100%\">\n",
       "<tr class=\"basliklar\">\n",
       "<th>Harf</th>\n",
       "<th>Isim</th>\n",
       "<th>Sehir</th>\n",
       "<th>Hayvan</th>\n",
       "<th>Bitki</th>\n",
       "<th>Esya</th>\n",
       "<th>Ulke</th>\n",
       "<th>Unlu</th>\n",
       "<th>Eser</th>\n",
       "<th>Puan</th>\n",
       "</tr>\n",
       "<tr class=\"satirlar\">\n",
       "<td class=\"col1\"> A </td>\n",
       "<td class=\"col2\"> Ali </td>\n",
       "<td class=\"col3\"> Aydin </td>\n",
       "<td class=\"col4\"> Ari </td>\n",
       "<td class=\"col5\"> Asma </td>\n",
       "<td class=\"col6\"> Araba </td>\n",
       "<td class=\"col7\"> Arnavutluk </td>\n",
       "<td class=\"col8\"> Aya Shalkar </td>\n",
       "<td class=\"col9\"> Ask (Elif Safak) </td>\n",
       "<td class=\"col10\">100 </td>\n",
       "</tr>\n",
       "<tr class=\"satirlar\">\n",
       "<td class=\"col1\"> İ </td>\n",
       "<td class=\"col2\"> Inci </td>\n",
       "<td class=\"col3\"> Izmir </td>\n",
       "<td class=\"col4\"> Inek </td>\n",
       "<td class=\"col5\"> Incir </td>\n",
       "<td class=\"col6\"> igne </td>\n",
       "<td class=\"col7\"> Izlanda </td>\n",
       "<td class=\"col8\"> Inna </td>\n",
       "<td class=\"col9\"> Icimizdeki Seytan (S. Ali) </td>\n",
       "<td class=\"col10\">90 </td>\n",
       "</tr>\n",
       "<tr class=\"satirlar\">\n",
       "<td class=\"col1\"> S </td>\n",
       "<td class=\"col2\"> Sena </td>\n",
       "<td class=\"col3\"> Sevilla </td>\n",
       "<td class=\"col4\"> SIPA </td>\n",
       "<td class=\"col5\"> Sumbul </td>\n",
       "<td class=\"col6\"> Surahi </td>\n",
       "<td class=\"col7\"> Singapur </td>\n",
       "<td class=\"col8\"> Stephen King </td>\n",
       "<td class=\"col9\"> Stratejik Ikna (Jay Heinrichs) </td>\n",
       "<td class=\"col10\">85 </td>\n",
       "</tr>\n",
       "<tr class=\"satirlar\">\n",
       "<td class=\"col1\"> Z </td>\n",
       "<td class=\"col2\"> Zeynep </td>\n",
       "<td class=\"col3\"> Zurich </td>\n",
       "<td class=\"col4\"> Zebra </td>\n",
       "<td class=\"col5\"> Zakkum </td>\n",
       "<td class=\"col6\"> Zil </td>\n",
       "<td class=\"col7\"> Zimbabwe </td>\n",
       "<td class=\"col8\"> Zhu </td>\n",
       "<td class=\"col9\"> Zaman Yolculugu (James Gleick) </td>\n",
       "<td class=\"col10\">95 </td>\n",
       "</tr>\n",
       "<tr class=\"satirlar\">\n",
       "<td class=\"col1\"> R </td>\n",
       "<td class=\"col2\"> Ramazan </td>\n",
       "<td class=\"col3\"> Roma </td>\n",
       "<td class=\"col4\"> Rakun </td>\n",
       "<td class=\"col5\"> Roka </td>\n",
       "<td class=\"col6\"> Radyo </td>\n",
       "<td class=\"col7\"> Rusya </td>\n",
       "<td class=\"col8\"> Russell Norvig </td>\n",
       "<td class=\"col9\"> (Dune) Rahibeler Meclisi (Frank Herbert) </td>\n",
       "<td class=\"col10\">90 </td>\n",
       "</tr>\n",
       "</table>\n",
       "</div>\n",
       "<hr/>\n",
       "<h3 align=\"center\" style=\"margin-right:100px\"> -- Part 2 - Linklere Ulaşma--\n",
       "<div class=\"url-senaryosu\">\n",
       "                        Sosyal medya hesaplarimiz:\n",
       "                        <li>1. Site: <a class=\"sisterslab-websites\" href=\"https://sisterslab.co/\">Web Site</a></li>\n",
       "<li>2. Site: <a class=\"sisterslab-websites\" href=\"https://www.instagram.com/sisterslabb/\">Instagram</a></li>\n",
       "<li>3. Site: <a class=\"sisterslab-websites\" href=\"https://twitter.com/SistersLab\">Twitter</a>\n",
       "</li>\n",
       "<li>4. Site: <a class=\"sisterslab-websites\" href=\"https://www.youtube.com/channel/UCDLlvoriOfvbfUL3P1SyGkg\">Youtube</a></li>\n",
       "</div>\n",
       "<hr/>\n",
       "<h3 align=\"center\" style=\"margin-right:100px\"> -- Part 3 - Ürün Paket Bilgilerine Ulaşma--\n",
       "<div class=\"e-ticaret-senaryosu\">\n",
       "<li>Bu durum direkt olarak e-ticaret sitelerinde karşılaştığımız senaryo. Bir sayfada çok\n",
       "                                sayıda\n",
       "                                ürün var, herbirine tıklayabilir o ürünlerin kendi sayfalarına da ulaşabiliriz.</li>\n",
       "<div class=\"row-scraping\">\n",
       "<div class=\"col-scraping\">\n",
       "<div class=\"urun-kutusu\">\n",
       "<div class=\"urun\">\n",
       "<div class=\"urun-dis-cerceve\">\n",
       "<div class=\"urun-cerceve\">\n",
       "<div class=\"urun-img\">\n",
       "<a href=\"https://bilative.github.io/sisterslab/urun_sayfasi\">\n",
       "<img alt=\"2022 KPSS Lisans Genel Yetenek Gener Matematik Yaprak Test\" class=\"urun-gorseli\" src=\"https://user-images.githubusercontent.com/70684994/137544026-e860f771-fa30-482a-bb21-65986f9473e4.jpg\"/>\n",
       "</a>\n",
       "</div>\n",
       "</div>\n",
       "<div class=\"urun-icerik-cerceve\">\n",
       "<div class=\"urun-icerik-ic-cerceve\">\n",
       "<a class=\"urun-adi\" href=\"https://bilative.github.io/sisterslab/urun_sayfasi\" title=\"2022 KPSS Lisans Genel Yetenek Genelr Matematik Yaprak Test\">\n",
       "                                                            Buca Domates</a>\n",
       "<div class=\"urun-satici\">\n",
       "<a href=\"https://bilative.github.io/sisterslab/bilal_manavcilik\" target=\"_blank\" title=\"url\">\n",
       "                                                                Bilal Manavcilik</a>\n",
       "</div>\n",
       "<div class=\"urun-fiyat-list\">\n",
       "<div class=\"urun-discount-rate\">\n",
       "                                                                40%\n",
       "                                                            </div>\n",
       "<div class=\"urun-fiyat-cerceve\">\n",
       "<div class=\"urun-eski-fiyat\">\n",
       "<s>3,50 TL</s>\n",
       "</div>\n",
       "<div class=\"urun-fiyat\">\n",
       "                                                                    2,50 TL\n",
       "                                                                </div>\n",
       "</div>\n",
       "</div>\n",
       "</div>\n",
       "</div>\n",
       "</div>\n",
       "</div>\n",
       "</div>\n",
       "</div>\n",
       "<div class=\"col-scraping\">\n",
       "<div class=\"urun-kutusu\">\n",
       "<div class=\"urun\">\n",
       "<div class=\"urun-dis-cerceve\">\n",
       "<div class=\"urun-cerceve\">\n",
       "<div class=\"urun-img\">\n",
       "<a href=\"https://bilative.github.io/sisterslab/urun_sayfasi\">\n",
       "<img alt=\"2022 KPSS Lisans Genel Yetenek Gener Matematik Yaprak Test\" class=\"urun-gorseli\" src=\"https://user-images.githubusercontent.com/70684994/137544136-0b9f1a0f-bd17-4dbc-a083-835775992f77.jpg\"/>\n",
       "</a>\n",
       "</div>\n",
       "</div>\n",
       "<div class=\"urun-icerik-cerceve\">\n",
       "<div class=\"urun-icerik-ic-cerceve\">\n",
       "<a class=\"urun-adi\" href=\"https://bilative.github.io/sisterslab/urun_sayfasi\" title=\"2022 KPSS Lisans Genel Yetenek Genelr Matematik Yaprak Test\">\n",
       "                                                            Tekeli Karpuzu</a>\n",
       "<div class=\"urun-satici\">\n",
       "<a href=\"https://bilative.github.io/sisterslab/bilal_manavcilik\" target=\"_blank\" title=\"url\">\n",
       "                                                                Bilal Manavcilik</a>\n",
       "</div>\n",
       "<div class=\"urun-fiyat-list\">\n",
       "<div class=\"urun-discount-rate\">\n",
       "                                                                35%\n",
       "                                                            </div>\n",
       "<div class=\"urun-fiyat-cerceve\">\n",
       "<div class=\"urun-eski-fiyat\">\n",
       "<s>10,00 TL</s>\n",
       "</div>\n",
       "<div class=\"urun-fiyat\">\n",
       "                                                                    6,50 TL\n",
       "                                                                </div>\n",
       "</div>\n",
       "</div>\n",
       "</div>\n",
       "</div>\n",
       "</div>\n",
       "</div>\n",
       "</div>\n",
       "</div>\n",
       "<div class=\"col-scraping\">\n",
       "<div class=\"urun-kutusu\">\n",
       "<div class=\"urun\">\n",
       "<div class=\"urun-dis-cerceve\">\n",
       "<div class=\"urun-cerceve\">\n",
       "<div class=\"urun-img\">\n",
       "<a href=\"https://bilative.github.io/sisterslab/urun_sayfasi\">\n",
       "<img alt=\"2022 KPSS Lisans Genel Yetenek Gener Matematik Yaprak Test\" class=\"urun-gorseli\" src=\"https://user-images.githubusercontent.com/70684994/137544336-2029933a-36bf-409e-8334-4c4700853742.jpeg\"/>\n",
       "</a>\n",
       "</div>\n",
       "</div>\n",
       "<div class=\"urun-icerik-cerceve\">\n",
       "<div class=\"urun-icerik-ic-cerceve\">\n",
       "<a class=\"urun-adi\" href=\"https://bilative.github.io/sisterslab/urun_sayfasi\" title=\"2022 KPSS Lisans Genel Yetenek Genelr Matematik Yaprak Test\">\n",
       "                                                            Odemis Kirazi</a>\n",
       "<div class=\"urun-satici\">\n",
       "<a href=\"https://bilative.github.io/sisterslab/bilal_manavcilik\" target=\"_blank\" title=\"url\">\n",
       "                                                                Bilal Manavcilik</a>\n",
       "</div>\n",
       "<div class=\"urun-fiyat-list\">\n",
       "<div class=\"urun-discount-rate\">\n",
       "                                                                33%\n",
       "                                                            </div>\n",
       "<div class=\"urun-fiyat-cerceve\">\n",
       "<div class=\"urun-eski-fiyat\">\n",
       "<s>15,00 TL</s>\n",
       "</div>\n",
       "<div class=\"urun-fiyat\">\n",
       "                                                                    10,50 TL\n",
       "                                                                </div>\n",
       "</div>\n",
       "</div>\n",
       "</div>\n",
       "</div>\n",
       "</div>\n",
       "</div>\n",
       "</div>\n",
       "</div>\n",
       "<div class=\"col-scraping\">\n",
       "<div class=\"urun-kutusu\">\n",
       "<div class=\"urun\">\n",
       "<div class=\"urun-dis-cerceve\">\n",
       "<div class=\"urun-cerceve\">\n",
       "<div class=\"urun-img\">\n",
       "<a href=\"https://bilative.github.io/sisterslab/urun_sayfasi\">\n",
       "<img alt=\"2022 KPSS Lisans Genel Yetenek Gener Matematik Yaprak Test\" class=\"urun-gorseli\" src=\"https://user-images.githubusercontent.com/70684994/137544554-b4ececee-57d3-4b19-8133-4c5f3914348c.jpg\"/>\n",
       "</a>\n",
       "</div>\n",
       "</div>\n",
       "<div class=\"urun-icerik-cerceve\">\n",
       "<div class=\"urun-icerik-ic-cerceve\">\n",
       "<a class=\"urun-adi\" href=\"https://bilative.github.io/sisterslab/urun_sayfasi\" title=\"2022 KPSS Lisans Genel Yetenek Genelr Matematik Yaprak Test\">\n",
       "                                                            Gumuldur Mandalinasi</a>\n",
       "<div class=\"urun-satici\">\n",
       "<a href=\"https://bilative.github.io/bilal_manavcilik\" target=\"_blank\" title=\"url\">\n",
       "                                                                Bilal Manavcilik</a>\n",
       "</div>\n",
       "<div class=\"urun-fiyat-list\">\n",
       "<div class=\"urun-discount-rate\">\n",
       "                                                                25%\n",
       "                                                            </div>\n",
       "<div class=\"urun-fiyat-cerceve\">\n",
       "<div class=\"urun-eski-fiyat\">\n",
       "<s>6,00 TL</s>\n",
       "</div>\n",
       "<div class=\"urun-fiyat\">\n",
       "                                                                    4,50 TL\n",
       "                                                                </div>\n",
       "</div>\n",
       "</div>\n",
       "</div>\n",
       "</div>\n",
       "</div>\n",
       "</div>\n",
       "</div>\n",
       "</div>\n",
       "</div>\n",
       "</div>\n",
       "</h3></h3></h3></div>\n",
       "</section>\n",
       "<hr class=\"m-0\">\n",
       "\n",
       "<!-- Bootstrap core JS-->\n",
       "<script src=\"https://cdn.jsdelivr.net/npm/bootstrap@5.1.0/dist/js/bootstrap.bundle.min.js\"></script>\n",
       "<!-- Core theme JS-->\n",
       "<script src=\"js/scripts.js\"></script>\n",
       "</hr></body>\n",
       "</html>"
      ]
     },
     "metadata": {},
     "execution_count": 3
    }
   ],
   "metadata": {}
  },
  {
   "cell_type": "code",
   "execution_count": 4,
   "source": [
    "for i in soup.find_all('a'):\r\n",
    "    print(i['href'])\r\n",
    "    print(i.text)"
   ],
   "outputs": [
    {
     "output_type": "stream",
     "name": "stdout",
     "text": [
      "https://bilative.github.io/\n",
      "\n",
      "Bilal Latif Ozdemir\n",
      "\n",
      "\n",
      "https://bilative.github.io/#about\n",
      "About\n",
      "https://bilative.github.io/#projects\n",
      "Projects\n",
      "https://bilative.github.io/#experience\n",
      "Experience\n",
      "https://bilative.github.io/#education\n",
      "Education\n",
      "https://bilative.github.io/#skills\n",
      "Skills\n",
      "https://bilative.github.io/#interests\n",
      "Interests\n",
      "https://bilative.github.io/#awards\n",
      "Certifications\n",
      "https://sisterslab.co/\n",
      "Web Site\n",
      "https://www.instagram.com/sisterslabb/\n",
      "Instagram\n",
      "https://twitter.com/SistersLab\n",
      "Twitter\n",
      "https://www.youtube.com/channel/UCDLlvoriOfvbfUL3P1SyGkg\n",
      "Youtube\n",
      "https://bilative.github.io/sisterslab/urun_sayfasi\n",
      "\n",
      "\n",
      "\n",
      "https://bilative.github.io/sisterslab/urun_sayfasi\n",
      "\n",
      "                                                            Buca Domates\n",
      "https://bilative.github.io/sisterslab/bilal_manavcilik\n",
      "\n",
      "                                                                Bilal Manavcilik\n",
      "https://bilative.github.io/sisterslab/urun_sayfasi\n",
      "\n",
      "\n",
      "\n",
      "https://bilative.github.io/sisterslab/urun_sayfasi\n",
      "\n",
      "                                                            Tekeli Karpuzu\n",
      "https://bilative.github.io/sisterslab/bilal_manavcilik\n",
      "\n",
      "                                                                Bilal Manavcilik\n",
      "https://bilative.github.io/sisterslab/urun_sayfasi\n",
      "\n",
      "\n",
      "\n",
      "https://bilative.github.io/sisterslab/urun_sayfasi\n",
      "\n",
      "                                                            Odemis Kirazi\n",
      "https://bilative.github.io/sisterslab/bilal_manavcilik\n",
      "\n",
      "                                                                Bilal Manavcilik\n",
      "https://bilative.github.io/sisterslab/urun_sayfasi\n",
      "\n",
      "\n",
      "\n",
      "https://bilative.github.io/sisterslab/urun_sayfasi\n",
      "\n",
      "                                                            Gumuldur Mandalinasi\n",
      "https://bilative.github.io/bilal_manavcilik\n",
      "\n",
      "                                                                Bilal Manavcilik\n"
     ]
    }
   ],
   "metadata": {}
  },
  {
   "cell_type": "code",
   "execution_count": 14,
   "source": [
    "for i in soup.find_all('td'):\r\n",
    "    print(i)"
   ],
   "outputs": [
    {
     "output_type": "stream",
     "name": "stdout",
     "text": [
      "<td class=\"col1\"> A </td>\n",
      "<td class=\"col2\"> Ali </td>\n",
      "<td class=\"col3\"> Aydin </td>\n",
      "<td class=\"col4\"> Ari </td>\n",
      "<td class=\"col5\"> Asma </td>\n",
      "<td class=\"col6\"> Araba </td>\n",
      "<td class=\"col7\"> Arnavutluk </td>\n",
      "<td class=\"col8\"> Aya Shalkar </td>\n",
      "<td class=\"col9\"> Ask (Elif Safak) </td>\n",
      "<td class=\"col10\">100 </td>\n",
      "<td class=\"col1\"> İ </td>\n",
      "<td class=\"col2\"> Inci </td>\n",
      "<td class=\"col3\"> Izmir </td>\n",
      "<td class=\"col4\"> Inek </td>\n",
      "<td class=\"col5\"> Incir </td>\n",
      "<td class=\"col6\"> igne </td>\n",
      "<td class=\"col7\"> Izlanda </td>\n",
      "<td class=\"col8\"> Inna </td>\n",
      "<td class=\"col9\"> Icimizdeki Seytan (S. Ali) </td>\n",
      "<td class=\"col10\">90 </td>\n",
      "<td class=\"col1\"> S </td>\n",
      "<td class=\"col2\"> Sena </td>\n",
      "<td class=\"col3\"> Sevilla </td>\n",
      "<td class=\"col4\"> SIPA </td>\n",
      "<td class=\"col5\"> Sumbul </td>\n",
      "<td class=\"col6\"> Surahi </td>\n",
      "<td class=\"col7\"> Singapur </td>\n",
      "<td class=\"col8\"> Stephen King </td>\n",
      "<td class=\"col9\"> Stratejik Ikna (Jay Heinrichs) </td>\n",
      "<td class=\"col10\">85 </td>\n"
     ]
    }
   ],
   "metadata": {}
  },
  {
   "cell_type": "code",
   "execution_count": 5,
   "source": [
    "for i in soup.find_all('td', attrs={\"class\":\"col1\"}):\r\n",
    "    print(i)"
   ],
   "outputs": [
    {
     "output_type": "stream",
     "name": "stdout",
     "text": [
      "<td class=\"col1\"> A </td>\n",
      "<td class=\"col1\"> İ </td>\n",
      "<td class=\"col1\"> S </td>\n",
      "<td class=\"col1\"> Z </td>\n",
      "<td class=\"col1\"> R </td>\n"
     ]
    }
   ],
   "metadata": {}
  },
  {
   "cell_type": "code",
   "execution_count": 6,
   "source": [
    "soup.title.text"
   ],
   "outputs": [
    {
     "output_type": "execute_result",
     "data": {
      "text/plain": [
       "'weeklyme'"
      ]
     },
     "metadata": {},
     "execution_count": 6
    }
   ],
   "metadata": {}
  },
  {
   "cell_type": "code",
   "execution_count": 7,
   "source": [
    "for i in soup.find('title'):\r\n",
    "    print(i)"
   ],
   "outputs": [
    {
     "output_type": "stream",
     "name": "stdout",
     "text": [
      "weeklyme\n"
     ]
    }
   ],
   "metadata": {}
  },
  {
   "cell_type": "code",
   "execution_count": 26,
   "source": [
    "soup.a"
   ],
   "outputs": [
    {
     "output_type": "execute_result",
     "data": {
      "text/plain": [
       "<a class=\"navbar-brand js-scroll-trigger\" href=\"https://bilative.github.io/\">\n",
       "<span class=\"d-block d-lg-none\">Bilal Latif Ozdemir</span>\n",
       "<span class=\"d-none d-lg-block\"><img alt=\"...\" class=\"img-fluid img-profile rounded-circle mx-auto mb-2\" src=\"assets/img/me_linkedin.jpg\"/></span>\n",
       "</a>"
      ]
     },
     "metadata": {},
     "execution_count": 26
    }
   ],
   "metadata": {}
  },
  {
   "cell_type": "code",
   "execution_count": 29,
   "source": [
    "for i in soup.find('a'):\r\n",
    "    print(i)"
   ],
   "outputs": [
    {
     "output_type": "stream",
     "name": "stdout",
     "text": [
      "\n",
      "\n",
      "<span class=\"d-block d-lg-none\">Bilal Latif Ozdemir</span>\n",
      "\n",
      "\n",
      "<span class=\"d-none d-lg-block\"><img alt=\"...\" class=\"img-fluid img-profile rounded-circle mx-auto mb-2\" src=\"assets/img/me_linkedin.jpg\"/></span>\n",
      "\n",
      "\n"
     ]
    }
   ],
   "metadata": {}
  },
  {
   "cell_type": "code",
   "execution_count": 15,
   "source": [
    "soup_url = soup.find(attrs={'url-senaryosu'})\r\n",
    "for i in soup_url.find_all('li'):\r\n",
    "    print(i)"
   ],
   "outputs": [
    {
     "output_type": "stream",
     "name": "stdout",
     "text": [
      "<li>1. Site: <a class=\"sisterslab-websites\" href=\"https://sisterslab.co/\">Web Site</a></li>\n",
      "<li>2. Site: <a class=\"sisterslab-websites\" href=\"https://www.instagram.com/sisterslabb/\">Instagram</a></li>\n",
      "<li>3. Site: <a class=\"sisterslab-websites\" href=\"https://twitter.com/SistersLab\">Twitter</a>\n",
      "</li>\n",
      "<li>4. Site: <a class=\"sisterslab-websites\" href=\"https://www.youtube.com/channel/UCDLlvoriOfvbfUL3P1SyGkg\">Youtube</a></li>\n"
     ]
    }
   ],
   "metadata": {}
  },
  {
   "cell_type": "code",
   "execution_count": 20,
   "source": [
    "#soup_url = soup.find(attrs={'url-senaryosu'})\r\n",
    "for i in soup.find_all(attrs={\"class\":'urun-fiyat'}):\r\n",
    "    print(i.text)"
   ],
   "outputs": [
    {
     "output_type": "stream",
     "name": "stdout",
     "text": [
      "\n",
      "                                                                    2,50 TL\n",
      "                                                                \n",
      "\n",
      "                                                                    6,50 TL\n",
      "                                                                \n",
      "\n",
      "                                                                    10,50 TL\n",
      "                                                                \n",
      "\n",
      "                                                                    4,50 TL\n",
      "                                                                \n"
     ]
    }
   ],
   "metadata": {}
  },
  {
   "cell_type": "code",
   "execution_count": 34,
   "source": [
    "#soup_url = soup.find(attrs={'url-senaryosu'})\r\n",
    "for i in soup.find_all(attrs={\"class\":'urun-satici'}):\r\n",
    "    print(i)"
   ],
   "outputs": [
    {
     "output_type": "error",
     "ename": "SyntaxError",
     "evalue": "invalid syntax (<ipython-input-34-64ceb9d1cd5e>, line 3)",
     "traceback": [
      "\u001b[1;36m  File \u001b[1;32m\"<ipython-input-34-64ceb9d1cd5e>\"\u001b[1;36m, line \u001b[1;32m3\u001b[0m\n\u001b[1;33m    print(i.string.)\u001b[0m\n\u001b[1;37m                   ^\u001b[0m\n\u001b[1;31mSyntaxError\u001b[0m\u001b[1;31m:\u001b[0m invalid syntax\n"
     ]
    }
   ],
   "metadata": {}
  },
  {
   "cell_type": "code",
   "execution_count": null,
   "source": [],
   "outputs": [],
   "metadata": {}
  }
 ],
 "metadata": {
  "interpreter": {
   "hash": "4800c9a39adaa0c8765317c41af873c7b6ed4d2670d38dacbf28f56f976237f1"
  },
  "kernelspec": {
   "name": "python3",
   "display_name": "Python 3.7.8 64-bit"
  },
  "language_info": {
   "codemirror_mode": {
    "name": "ipython",
    "version": 3
   },
   "file_extension": ".py",
   "mimetype": "text/x-python",
   "name": "python",
   "nbconvert_exporter": "python",
   "pygments_lexer": "ipython3",
   "version": "3.7.8"
  },
  "orig_nbformat": 4
 },
 "nbformat": 4,
 "nbformat_minor": 2
}