{
 "cells": [
  {
   "cell_type": "code",
   "execution_count": null,
   "source": [
    "import pandas as pd\r\n",
    "import "
   ],
   "outputs": [],
   "metadata": {}
  },
  {
   "cell_type": "code",
   "execution_count": 2,
   "source": [
    "def commit_heatmap(df):\r\n",
    "    colorscale = [[False, \"#eeeeee\"], [True, \"#70cf60\"]]\r\n",
    "    data = [\r\n",
    "        go.Heatmap(\r\n",
    "            x=df['cumsum_'],\r\n",
    "            y=df['weekday'],\r\n",
    "            z=df['real_activities'],\r\n",
    "            text=df['dates'],\r\n",
    "            hoverinfo=\"text\",\r\n",
    "            xgap=3,\r\n",
    "            ygap=3,\r\n",
    "            showscale=False,\r\n",
    "            colorscale=colorscale\r\n",
    "        )\r\n",
    "    ]\r\n",
    "    layout = go.Layout(\r\n",
    "        height=230,\r\n",
    "        yaxis=dict(\r\n",
    "            ticktext=[\"Mon\", \"Tue\", \"Wed\", \"Thu\", \"Fri\", \"Sat\", \"Sun\"],\r\n",
    "            tickvals=[0, 1, 2, 3, 4, 5, 6],\r\n",
    "        ),\r\n",
    "        width=270,\r\n",
    "        font={\"size\": 10, \"color\": \"#aeaeae\"},\r\n",
    "        plot_bgcolor=(\"#fff\"),\r\n",
    "        margin=dict(t=40, b=30, r=20, l=20),\r\n",
    "    )\r\n",
    "    fig = go.Figure(data=data, layout=layout)\r\n",
    "    fig.update_xaxes(side=\"top\")\r\n",
    "    return fig\r\n",
    "\r\n",
    "commit_heatmap(df)"
   ],
   "outputs": [
    {
     "output_type": "error",
     "ename": "NameError",
     "evalue": "name 'activity_dataframe' is not defined",
     "traceback": [
      "\u001b[1;31m---------------------------------------------------------------------------\u001b[0m",
      "\u001b[1;31mNameError\u001b[0m                                 Traceback (most recent call last)",
      "\u001b[1;32m<ipython-input-2-e474fd8cfd99>\u001b[0m in \u001b[0;36m<module>\u001b[1;34m\u001b[0m\n\u001b[0;32m     29\u001b[0m     \u001b[1;32mreturn\u001b[0m \u001b[0mfig\u001b[0m\u001b[1;33m\u001b[0m\u001b[1;33m\u001b[0m\u001b[0m\n\u001b[0;32m     30\u001b[0m \u001b[1;33m\u001b[0m\u001b[0m\n\u001b[1;32m---> 31\u001b[1;33m \u001b[0mcommit_heatmap\u001b[0m\u001b[1;33m(\u001b[0m\u001b[0mactivity_dataframe\u001b[0m\u001b[1;33m)\u001b[0m\u001b[1;33m\u001b[0m\u001b[1;33m\u001b[0m\u001b[0m\n\u001b[0m",
      "\u001b[1;31mNameError\u001b[0m: name 'activity_dataframe' is not defined"
     ]
    }
   ],
   "metadata": {}
  },
  {
   "cell_type": "code",
   "execution_count": null,
   "source": [],
   "outputs": [],
   "metadata": {}
  }
 ],
 "metadata": {
  "orig_nbformat": 4,
  "language_info": {
   "name": "python",
   "version": "3.7.6",
   "mimetype": "text/x-python",
   "codemirror_mode": {
    "name": "ipython",
    "version": 3
   },
   "pygments_lexer": "ipython3",
   "nbconvert_exporter": "python",
   "file_extension": ".py"
  },
  "kernelspec": {
   "name": "python3",
   "display_name": "Python 3.7.6 64-bit"
  },
  "interpreter": {
   "hash": "4800c9a39adaa0c8765317c41af873c7b6ed4d2670d38dacbf28f56f976237f1"
  }
 },
 "nbformat": 4,
 "nbformat_minor": 2
}