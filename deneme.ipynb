{
 "cells": [
  {
   "cell_type": "code",
   "execution_count": 1,
   "metadata": {},
   "outputs": [],
   "source": [
    "import requests\n",
    "from bs4 import BeautifulSoup\n",
    "import re\n",
    "import time\n",
    "import pandas as pd\n",
    "import numpy as np\n",
    "\n",
    "\n",
    "\n",
    "def get_soup(BASE_PATH):\n",
    "    page = requests.get(BASE_PATH)\n",
    "    soup = BeautifulSoup(page.text, 'html.parser')\n",
    "    return soup"
   ]
  },
  {
   "cell_type": "code",
   "execution_count": 2,
   "metadata": {},
   "outputs": [],
   "source": [
    "URL = 'https://bilative.github.io/web_scraping'\n",
    "\n",
    "soup = get_soup(URL)"
   ]
  },
  {
   "cell_type": "code",
   "execution_count": 4,
   "metadata": {},
   "outputs": [
    {
     "data": {
      "text/plain": [
       "'Bu sayfa SistersLab web scraping konusu blog yazı serisi icin hazırlanmıştır. '"
      ]
     },
     "execution_count": 4,
     "metadata": {},
     "output_type": "execute_result"
    }
   ],
   "source": [
    "soup.p.text"
   ]
  },
  {
   "cell_type": "code",
   "execution_count": 22,
   "metadata": {},
   "outputs": [
    {
     "name": "stdout",
     "output_type": "stream",
     "text": [
      "<a class=\"navbar-brand js-scroll-trigger\" href=\"https://bilative.github.io/\">\n",
      "<span class=\"d-block d-lg-none\">Bilal Latif Ozdemir</span>\n",
      "<span class=\"d-none d-lg-block\"><img alt=\"...\" class=\"img-fluid img-profile rounded-circle mx-auto mb-2\" src=\"assets/img/me_linkedin.jpg\"/></span>\n",
      "</a>\n",
      "<a class=\"nav-link js-scroll-trigger\" href=\"https://bilative.github.io/#about\">About</a>\n",
      "<a class=\"nav-link js-scroll-trigger\" href=\"https://bilative.github.io/#projects\">Projects</a>\n",
      "<a class=\"nav-link js-scroll-trigger\" href=\"https://bilative.github.io/#experience\">Experience</a>\n",
      "<a class=\"nav-link js-scroll-trigger\" href=\"https://bilative.github.io/#education\">Education</a>\n",
      "<a class=\"nav-link js-scroll-trigger\" href=\"https://bilative.github.io/#skills\">Skills</a>\n",
      "<a class=\"nav-link js-scroll-trigger\" href=\"https://bilative.github.io/#interests\">Interests</a>\n",
      "<a class=\"nav-link js-scroll-trigger\" href=\"https://bilative.github.io/#awards\">Certifications</a>\n",
      "<a href=\"https://sisterslab.co/\">Web Site</a>\n",
      "<a href=\"https://www.instagram.com/sisterslabb/\">Instagram</a>\n",
      "<a href=\"https://twitter.com/SistersLab\">Twitter</a>\n",
      "<a href=\"https://www.youtube.com/channel/UCDLlvoriOfvbfUL3P1SyGkg\">Youtube</a>\n"
     ]
    }
   ],
   "source": [
    "for i in soup.find_all('a', href=True):\n",
    "    print(i)"
   ]
  },
  {
   "cell_type": "code",
   "execution_count": null,
   "metadata": {},
   "outputs": [],
   "source": []
  }
 ],
 "metadata": {
  "interpreter": {
   "hash": "4800c9a39adaa0c8765317c41af873c7b6ed4d2670d38dacbf28f56f976237f1"
  },
  "kernelspec": {
   "display_name": "Python 3.7.6 64-bit",
   "name": "python3"
  },
  "language_info": {
   "codemirror_mode": {
    "name": "ipython",
    "version": 3
   },
   "file_extension": ".py",
   "mimetype": "text/x-python",
   "name": "python",
   "nbconvert_exporter": "python",
   "pygments_lexer": "ipython3",
   "version": "3.7.6"
  },
  "orig_nbformat": 4
 },
 "nbformat": 4,
 "nbformat_minor": 2
}
