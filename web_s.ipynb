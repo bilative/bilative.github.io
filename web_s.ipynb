{
 "cells": [
  {
   "cell_type": "code",
   "execution_count": 1,
   "metadata": {},
   "outputs": [],
   "source": [
    "import requests #!pip install requests\n",
    "from bs4 import BeautifulSoup #!pip install beautifulsoup4\n",
    "import pandas as pd\n",
    "\n",
    "def get_soup(TARGET_URL):\n",
    "    page = requests.get(TARGET_URL)\n",
    "    soup = BeautifulSoup(page.text, 'html.parser')\n",
    "    return soup\n",
    "\n",
    "URL = 'https://bilative.github.io/sisterslab/page_1.html'\n",
    "\n",
    "soup = get_soup(URL)\n",
    "#print(soup)"
   ]
  },
  {
   "cell_type": "code",
   "execution_count": 6,
   "metadata": {},
   "outputs": [
    {
     "name": "stdout",
     "output_type": "stream",
     "text": [
      "https://bilative.github.io/sisterslab/page_1.html\n",
      "https://bilative.github.io/sisterslab/page_2.html\n",
      "https://bilative.github.io/sisterslab/page_3.html\n",
      "https://bilative.github.io/sisterslab/page_4.html\n",
      "https://bilative.github.io/sisterslab/page_5.html\n"
     ]
    }
   ],
   "source": [
    "page_urls = []\n",
    "for k in soup.find_all('a', attrs={'class':'pagination__content'}):\n",
    "    page_urls.append(k['href'])\n",
    "    print(k['href'])"
   ]
  },
  {
   "cell_type": "code",
   "execution_count": 9,
   "metadata": {},
   "outputs": [
    {
     "name": "stdout",
     "output_type": "stream",
     "text": [
      "Ananas\n",
      "https://bilative.github.io/sisterslab/urun/ananas\n",
      "Armut\n",
      "https://bilative.github.io/sisterslab/urun/armut\n",
      "Torbali Avakadosu\n",
      "https://bilative.github.io/sisterslab/urun/avakado\n",
      "Ayva\n",
      "https://bilative.github.io/sisterslab/urun/ayva\n"
     ]
    }
   ],
   "source": [
    "page_soup = get_soup(page_urls[0])\n",
    "product_urls = []\n",
    "\n",
    "for k in page_soup.find_all(\"a\", attrs={'class':'urun-adi'}):\n",
    "    product_urls.append(k['href'])\n",
    "\n",
    "    print(k.text)\n",
    "    print(k['href'])"
   ]
  },
  {
   "cell_type": "code",
   "execution_count": 10,
   "metadata": {},
   "outputs": [
    {
     "data": {
      "text/plain": [
       "['https://bilative.github.io/sisterslab/urun/ananas',\n",
       " 'https://bilative.github.io/sisterslab/urun/armut',\n",
       " 'https://bilative.github.io/sisterslab/urun/avakado',\n",
       " 'https://bilative.github.io/sisterslab/urun/ayva']"
      ]
     },
     "execution_count": 10,
     "metadata": {},
     "output_type": "execute_result"
    }
   ],
   "source": [
    "product_urls"
   ]
  },
  {
   "cell_type": "code",
   "execution_count": null,
   "metadata": {},
   "outputs": [],
   "source": [
    "product_soup = get_soup(product_urls[0])\n",
    "product_soup"
   ]
  },
  {
   "cell_type": "code",
   "execution_count": 22,
   "metadata": {},
   "outputs": [],
   "source": [
    "def clean_scraped(data):\n",
    "    return data.replace(' ', '').replace('\\n', '')"
   ]
  },
  {
   "cell_type": "code",
   "execution_count": 23,
   "metadata": {},
   "outputs": [
    {
     "name": "stdout",
     "output_type": "stream",
     "text": [
      "Ananas\n",
      "600gr\n",
      "16,00\n",
      "Sari-Yesil\n",
      "Afrika\n",
      "Var\n",
      "8/10\n"
     ]
    }
   ],
   "source": [
    "for i in product_soup.find_all('td'):\n",
    "    print(clean_scraped(i.text))"
   ]
  },
  {
   "cell_type": "code",
   "execution_count": 24,
   "metadata": {},
   "outputs": [
    {
     "name": "stdout",
     "output_type": "stream",
     "text": [
      "UrunAdi\n",
      "OrtalamaAgirlik\n",
      "Fiyati\n",
      "Rengi\n",
      "Mensei\n",
      "IadeSecenegi\n",
      "Dayaniklilik\n"
     ]
    }
   ],
   "source": [
    "for i in product_soup.find_all('th'):\n",
    "    print(clean_scraped(i.text))"
   ]
  },
  {
   "cell_type": "code",
   "execution_count": null,
   "metadata": {},
   "outputs": [],
   "source": []
  }
 ],
 "metadata": {
  "interpreter": {
   "hash": "4800c9a39adaa0c8765317c41af873c7b6ed4d2670d38dacbf28f56f976237f1"
  },
  "kernelspec": {
   "display_name": "Python 3.7.6 64-bit",
   "language": "python",
   "name": "python3"
  },
  "language_info": {
   "codemirror_mode": {
    "name": "ipython",
    "version": 3
   },
   "file_extension": ".py",
   "mimetype": "text/x-python",
   "name": "python",
   "nbconvert_exporter": "python",
   "pygments_lexer": "ipython3",
   "version": "3.7.6"
  },
  "orig_nbformat": 4
 },
 "nbformat": 4,
 "nbformat_minor": 2
}
